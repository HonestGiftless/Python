{
 "cells": [
  {
   "cell_type": "markdown",
   "metadata": {},
   "source": [
    "<h1 align=\"center\">Переменные среды окружения системы (environment)</h1>\n",
    "\n",
    "<h4 align=\"center\">Переменная os.environ</h4>\n",
    "\n",
    "<p align=\"center\">Переменная <b>os.environ</b> это объект сопоставления, подобный словарю, который представляет переменные среды окружения системы.</p>\n",
    "<p align=\"center\">Например, <b>os.environ['HOME']</b> это путь к домашнему каталогу на некоторых платформах.</p>\n",
    "\n",
    "<p align=\"center\">Переменная <b>os.environ</b> фиксируется при первом импорте модуля os, во время запуска Python. Изменения в среде OS, сделанные после этого времени не отражаются, за исключением изменений, внесенных путем непосредственного изменения os.environ</p>\n",
    "\n",
    "<h4 align=\"center\">Получение списка файлов в директории/каталоге</h4>"
   ]
  },
  {
   "cell_type": "code",
   "execution_count": null,
   "metadata": {},
   "outputs": [],
   "source": [
    "import os\n",
    "\n",
    "os.listdir(path=\".\")"
   ]
  },
  {
   "cell_type": "markdown",
   "metadata": {},
   "source": [
    "<h4>Параметры:</h4>\n",
    "\n",
    "* path - путь в виде строки или дескриптор каталога.\n",
    "\n",
    "<h4>Возвращаемое значение:</h4>\n",
    "\n",
    "* список имен файлов в каталоге.\n",
    "\n",
    "<h4>Описание:</h4>\n",
    "\n",
    "<p>Функция listdir() модуля os возвращает список, содержащий имена файлов и директорий в каталоге, заданном путем path. Список будет в произвольном порядке и не содержит специальных обозначений '.' и '..', даже если они присутствуют в каталоге.</p>\n",
    "<p>Аргумент path принимает объекты, реализующих интерфейс os.PathLike. Если путь path имеет байтовый тип, переданный прямо или косвенно через интерфейс os.PathLike, возвращаемые имена файлов также будут байтовыми типами, во всех остальных случаях они будут иметь строковой тип.</p>\n",
    "\n",
    "<h4 align=\"center\">Пример получения списка имен файлов и директорий в каталоге</h4>"
   ]
  },
  {
   "cell_type": "code",
   "execution_count": 1,
   "metadata": {},
   "outputs": [
    {
     "name": "stdout",
     "output_type": "stream",
     "text": [
      "1 3.6.1.1 environment.ipynb\n",
      "2 main.py\n",
      "3 start.ipynb\n"
     ]
    }
   ],
   "source": [
    "import os\n",
    "\n",
    "path = \".\"\n",
    "\n",
    "rez = sorted(os.listdir(path))\n",
    "for n, item in enumerate(rez):\n",
    "    print(n + 1, item)"
   ]
  },
  {
   "cell_type": "markdown",
   "metadata": {},
   "source": [
    "<h4 align=\"center\">Рекурсивное получение имен файлов в дереве каталогов</h4>"
   ]
  },
  {
   "cell_type": "code",
   "execution_count": null,
   "metadata": {},
   "outputs": [],
   "source": [
    "import os\n",
    "\n",
    "os.walk(top, topdown=True, onerror=None, followlinks=False)"
   ]
  },
  {
   "cell_type": "markdown",
   "metadata": {},
   "source": [
    "<h4>Параметры:</h4>\n",
    "\n",
    "* top - строка, вершина каталога\n",
    "* topdown=True - bool, направление обхода\n",
    "* onerror=None - функция, которая сообщает об ошибке\n",
    "* followlinks - bool, переходить ли по символическим ссылкам\n",
    "\n",
    "<h4>Возвращаемое значение:</h4>\n",
    "\n",
    "* тройной кортеж\n",
    "\n",
    "<h4>Описание:</h4>\n",
    "<p>Функция walk() модуля os генерирует имена файлов в дереве каталогов, обходя дерево сверху вниз или снизу вверх. Для каждого каталога в дереве с корнем в вершине каталога top, включая саму вершину top, она выдает тройной кортеж (dirpath, dirnames, filenames).</p>\n",
    "\n",
    "* dirpath - это строка, путь к каталогу.\n",
    "* dirnames - это список имен подкатологов в dirpath, исключая особые символы '.' и '..'.\n",
    "* filenames - это список имен файлов в dirpath (не каталогов)."
   ]
  }
 ],
 "metadata": {
  "kernelspec": {
   "display_name": "Python 3",
   "language": "python",
   "name": "python3"
  },
  "language_info": {
   "codemirror_mode": {
    "name": "ipython",
    "version": 3
   },
   "file_extension": ".py",
   "mimetype": "text/x-python",
   "name": "python",
   "nbconvert_exporter": "python",
   "pygments_lexer": "ipython3",
   "version": "3.12.4"
  }
 },
 "nbformat": 4,
 "nbformat_minor": 2
}
